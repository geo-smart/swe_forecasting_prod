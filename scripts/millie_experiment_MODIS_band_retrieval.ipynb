{
 "cells": [
  {
   "cell_type": "code",
   "execution_count": 1,
   "id": "d0c56887-5d5e-46ad-898d-d41e21bfff6a",
   "metadata": {},
   "outputs": [],
   "source": [
    "# Import packages\n",
    "import os\n",
    "import pandas as pd\n",
    "import numpy as np\n",
    "from osgeo import gdal\n",
    "from sklearn.model_selection import train_test_split\n",
    "from sklearn.ensemble import RandomForestRegressor\n",
    "from sklearn.metrics import mean_squared_error\n",
    "import earthaccess\n",
    "from shapely.geometry import Point\n",
    "from shapely.ops import transform\n",
    "import pyproj"
   ]
  },
  {
   "cell_type": "code",
   "execution_count": 2,
   "id": "2a02a70c-e86f-4b3d-a20e-816597eedffc",
   "metadata": {},
   "outputs": [],
   "source": [
    "# Directory setup\n",
    "modis_input_folder = os.getcwd() + \"/modis_surface_reflectance/\"\n",
    "os.makedirs(modis_input_folder, exist_ok=True)\n",
    "\n",
    "# Define the time range and bounding box - Just a random week in January \n",
    "start_date = \"2018-01-01\"\n",
    "end_date = \"2018-01-07\"\n",
    "bounding_box = (-125.0, 43.0, -124.0, 44.0)  # Bounding box for Oregon Coast pesky area"
   ]
  },
  {
   "cell_type": "code",
   "execution_count": 5,
   "id": "37da404c-b9ba-469e-86cb-72e281684f46",
   "metadata": {},
   "outputs": [
    {
     "name": "stdin",
     "output_type": "stream",
     "text": [
      "Enter your Earthdata Login username:  JosephWashington\n",
      "Enter your Earthdata password:  ········\n"
     ]
    },
    {
     "data": {
      "text/plain": [
       "<earthaccess.auth.Auth at 0x7f5587d1e3d0>"
      ]
     },
     "execution_count": 5,
     "metadata": {},
     "output_type": "execute_result"
    }
   ],
   "source": [
    "earthaccess.login()"
   ]
  },
  {
   "cell_type": "code",
   "execution_count": 6,
   "id": "5d821e74-9af4-4f1d-98fd-b69b8b761d89",
   "metadata": {},
   "outputs": [
    {
     "name": "stdout",
     "output_type": "stream",
     "text": [
      "Starting MODIS surface reflectance download for 2018-01-01 to 2018-01-07...\n",
      "Download completed.\n"
     ]
    }
   ],
   "source": [
    "# Download MODIS surface reflectance bands\n",
    "def download_modis_surface_reflectance(start_date, end_date, bounding_box, input_folder):\n",
    "    print(f\"Starting MODIS surface reflectance download for {start_date} to {end_date}...\")\n",
    "    results = earthaccess.search_data(short_name=\"MOD09GA\", \n",
    "                                      cloud_hosted=True, \n",
    "                                      bounding_box=bounding_box, \n",
    "                                      temporal=(start_date, end_date))\n",
    "    earthaccess.download(results, input_folder)\n",
    "    print(\"Download completed.\")\n",
    "\n",
    "# Extract surface reflectance bands from HDF files\n",
    "# just using bands 1-7 (not all 36) for MODIS Surface Reflectance\n",
    "def extract_surface_reflectance_bands(hdf_file):\n",
    "    print(f\"Extracting surface reflectance bands from {hdf_file}...\")\n",
    "    hdf_ds = gdal.Open(hdf_file, gdal.GA_ReadOnly)\n",
    "    bands = {\n",
    "        \"Band_1\": gdal.Open(hdf_ds.GetSubDatasets()[0][0]).ReadAsArray(),  # Red\n",
    "        \"Band_2\": gdal.Open(hdf_ds.GetSubDatasets()[1][0]).ReadAsArray(),  # NIR\n",
    "        \"Band_3\": gdal.Open(hdf_ds.GetSubDatasets()[2][0]).ReadAsArray(),  # Blue\n",
    "        \"Band_4\": gdal.Open(hdf_ds.GetSubDatasets()[3][0]).ReadAsArray(),  # Green\n",
    "        \"Band_5\": gdal.Open(hdf_ds.GetSubDatasets()[4][0]).ReadAsArray(),  # SWIR 1\n",
    "        \"Band_6\": gdal.Open(hdf_ds.GetSubDatasets()[5][0]).ReadAsArray(),  # SWIR 2\n",
    "        \"Band_7\": gdal.Open(hdf_ds.GetSubDatasets()[6][0]).ReadAsArray(),  # SWIR 3\n",
    "    }\n",
    "    print(\"Band extraction completed.\")\n",
    "    return bands\n",
    "\n",
    "download_modis_surface_reflectance(start_date, end_date, bounding_box, modis_input_folder)"
   ]
  },
  {
   "cell_type": "code",
   "execution_count": null,
   "id": "efce29af-0fc8-4381-b905-e10b1a031a03",
   "metadata": {},
   "outputs": [],
   "source": [
    "# Preprocess SNOTEL data\n",
    "def preprocess_snotel_data(snotel_df, start_date, end_date):\n",
    "    print(f\"Preprocessing SNOTEL data for date range {start_date} to {end_date}...\")\n",
    "    filtered_snotel = snotel_df[(snotel_df['date'] >= start_date) & (snotel_df['date'] <= end_date)]\n",
    "    filtered_snotel = filtered_snotel.dropna(subset=['swe_value'])\n",
    "    print(f\"Preprocessing completed. Filtered data contains {len(filtered_snotel)} records.\")\n",
    "    return filtered_snotel[['lat', 'lon', 'swe_value']]"
   ]
  },
  {
   "cell_type": "code",
   "execution_count": null,
   "id": "51c5bd5e-662a-4d8b-9ed4-8aa96a99e46f",
   "metadata": {},
   "outputs": [],
   "source": [
    "# Calculate distance between two geographic points\n",
    "def haversine(lon1, lat1, lon2, lat2):\n",
    "    R = 6371  # Earth radius in kilometers\n",
    "    dlat = np.radians(lat2 - lat1)\n",
    "    dlon = np.radians(lon2 - lon1)\n",
    "    a = np.sin(dlat / 2) ** 2 + np.cos(np.radians(lat1)) * np.cos(np.radians(lat2)) * np.sin(dlon / 2) ** 2\n",
    "    c = 2 * np.arctan2(np.sqrt(a), np.sqrt(1 - a))\n",
    "    return R * c\n"
   ]
  },
  {
   "cell_type": "code",
   "execution_count": null,
   "id": "bf8f2cbb-cc8d-48a0-bab2-1985dff6abaf",
   "metadata": {},
   "outputs": [],
   "source": [
    "# Integrate MODIS bands and SNOTEL data\n",
    "def integrate_modis_snotel(modis_folder, snotel_data):\n",
    "    print(\"Integrating MODIS bands with SNOTEL data...\")\n",
    "    \n",
    "    X = []\n",
    "    print(\"Initialized feature list X.\")\n",
    "    \n",
    "    y = []\n",
    "    print(\"Initialized target list y.\")\n",
    "    \n",
    "    for file in os.listdir(modis_folder):\n",
    "        print(f\"Processing {file}\")\n",
    "        \n",
    "        if file.endswith(\".hdf\"):\n",
    "            print(f\"This is a HDF: {file}\")\n",
    "            \n",
    "            hdf_file = os.path.join(modis_folder, file)\n",
    "            print(f\"Constructed HDF file path: {hdf_file}\")\n",
    "            \n",
    "            bands = extract_surface_reflectance_bands(hdf_file)\n",
    "            print(f\"Read the band file into memory\")\n",
    "            \n",
    "            # Extract pixel coordinates from bands and match with SNOTEL data\n",
    "            # This should be replaced with actual pixel coordinate extraction logic\n",
    "            pixel_coords = np.zeros((bands[\"Band_1\"].shape[0], bands[\"Band_1\"].shape[1], 2))  # Placeholder\n",
    "            print(f\"Initialized pixel coordinate array with shape: {pixel_coords.shape}\")\n",
    "            \n",
    "            for lat, lon, swe in snotel_data[['lat', 'lon', 'swe_value']].values:\n",
    "                #print(f\"Processing SNOTEL data point: lat={lat}, lon={lon}, swe={swe}\")\n",
    "                \n",
    "                min_distance = float('inf')\n",
    "                closest_pixel = None\n",
    "                #print(f\"Initialized minimum distance as infinity and closest_pixel as None\")\n",
    "                \n",
    "                for i in range(pixel_coords.shape[0]):\n",
    "                    for j in range(pixel_coords.shape[1]):\n",
    "                        pixel_lat, pixel_lon = pixel_coords[i, j]\n",
    "                        #print(f\"Checking pixel at ({i}, {j}) with coordinates: lat={pixel_lat}, lon={pixel_lon}\")\n",
    "                        \n",
    "                        distance = haversine(lon, lat, pixel_lon, pixel_lat)\n",
    "                        #print(f\"Calculated distance: {distance}\")\n",
    "                        \n",
    "                        if distance < min_distance:\n",
    "                            min_distance = distance\n",
    "                            closest_pixel = (i, j)\n",
    "                            #print(f\"Updated closest pixel to ({i}, {j}) with distance: {min_distance}\")\n",
    "                \n",
    "                if min_distance <= 10:  # Only use if within 10 km\n",
    "                    band_values = [bands[band].flatten()[closest_pixel[0] * bands[band].shape[1] + closest_pixel[1]] for band in bands]\n",
    "                   # print(f\"Extracted band values for closest pixel: {band_values}\")\n",
    "                    \n",
    "                    X.append(band_values)\n",
    "                    #print(f\"Appended band values to feature list X.\")\n",
    "                    \n",
    "                    y.append(swe)\n",
    "                    #print(f\"Appended SNOTEL SWE value to target list y.\")\n",
    "    \n",
    "    #print(f\"Integration completed. Number of samples: {len(X)}\")\n",
    "    return np.array(X), np.array(y)"
   ]
  },
  {
   "cell_type": "code",
   "execution_count": null,
   "id": "18ee1958-5af9-457b-aac6-e2adfad7794b",
   "metadata": {},
   "outputs": [],
   "source": [
    "# Train and evaluate the ML model\n",
    "def train_and_evaluate_model(X, y):\n",
    "    print(\"Training and evaluating the ML model...\")\n",
    "    X_train, X_test, y_train, y_test = train_test_split(X, y, test_size=0.2, random_state=42)\n",
    "    model = RandomForestRegressor(n_estimators=100, random_state=42)\n",
    "    model.fit(X_train, y_train)\n",
    "    y_pred = model.predict(X_test)\n",
    "    mse = mean_squared_error(y_test, y_pred)\n",
    "    print(f\"Model training completed. Mean Squared Error: {mse}\")\n",
    "    return model\n"
   ]
  },
  {
   "cell_type": "code",
   "execution_count": null,
   "id": "a67338aa-cb52-4d2d-944f-130a91ca0429",
   "metadata": {},
   "outputs": [],
   "source": [
    "# Main workflow\n",
    "def main():\n",
    "    print(\"Starting workflow...\")\n",
    "    #download_modis_surface_reflectance(start_date, end_date, bounding_box, modis_input_folder)\n",
    "    \n",
    "    # Load SNOTEL data\n",
    "    snotel_file = \"/home/jovyan/shared-public/ml_swe_monitoring_prod/all_snotel_cdec_stations_active_in_westus.csv_swe_restored_dask_all_vars.csv\"\n",
    "    print(f\"Loading SNOTEL data from {snotel_file}...\")\n",
    "    snotel_df = pd.read_csv(snotel_file)\n",
    "    \n",
    "    # Preprocess SNOTEL data\n",
    "    snotel_data = preprocess_snotel_data(snotel_df, start_date, end_date)\n",
    "    \n",
    "    # Integrate MODIS bands with SNOTEL SWE data\n",
    "    X, y = integrate_modis_snotel(modis_input_folder, snotel_data)\n",
    "    \n",
    "    # Train and evaluate the model\n",
    "    model = train_and_evaluate_model(X, y)\n",
    "    print(\"Model training and evaluation completed.\")\n",
    "\n",
    "if __name__ == \"__main__\":\n",
    "    main()\n"
   ]
  },
  {
   "cell_type": "code",
   "execution_count": null,
   "id": "7c2b7565-2c4d-4d68-ae6c-73b43a3b449d",
   "metadata": {},
   "outputs": [],
   "source": []
  }
 ],
 "metadata": {
  "kernelspec": {
   "display_name": "Python 3 (ipykernel)",
   "language": "python",
   "name": "python3"
  },
  "language_info": {
   "codemirror_mode": {
    "name": "ipython",
    "version": 3
   },
   "file_extension": ".py",
   "mimetype": "text/x-python",
   "name": "python",
   "nbconvert_exporter": "python",
   "pygments_lexer": "ipython3",
   "version": "3.11.9"
  }
 },
 "nbformat": 4,
 "nbformat_minor": 5
}
