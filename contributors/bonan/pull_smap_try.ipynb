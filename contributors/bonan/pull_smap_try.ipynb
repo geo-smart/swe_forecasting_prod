{
 "cells": [
  {
   "cell_type": "code",
   "execution_count": 12,
   "id": "09ddf3d4-ea14-4c59-ad03-d443afcd187e",
   "metadata": {
    "tags": []
   },
   "outputs": [
    {
     "name": "stdout",
     "output_type": "stream",
     "text": [
      "Requirement already satisfied: earthengine-api in /home/ubuntu/anaconda3/lib/python3.11/site-packages (0.1.376)\n",
      "Requirement already satisfied: google-cloud-storage in /home/ubuntu/anaconda3/lib/python3.11/site-packages (from earthengine-api) (2.12.0)\n",
      "Requirement already satisfied: google-api-python-client>=1.12.1 in /home/ubuntu/anaconda3/lib/python3.11/site-packages (from earthengine-api) (2.105.0)\n",
      "Requirement already satisfied: google-auth>=1.4.1 in /home/ubuntu/anaconda3/lib/python3.11/site-packages (from earthengine-api) (2.23.3)\n",
      "Requirement already satisfied: google-auth-httplib2>=0.0.3 in /home/ubuntu/anaconda3/lib/python3.11/site-packages (from earthengine-api) (0.1.1)\n",
      "Requirement already satisfied: httplib2<1dev,>=0.9.2 in /home/ubuntu/anaconda3/lib/python3.11/site-packages (from earthengine-api) (0.22.0)\n",
      "Requirement already satisfied: requests in /home/ubuntu/anaconda3/lib/python3.11/site-packages (from earthengine-api) (2.28.2)\n",
      "Requirement already satisfied: google-api-core!=2.0.*,!=2.1.*,!=2.2.*,!=2.3.0,<3.0.0.dev0,>=1.31.5 in /home/ubuntu/anaconda3/lib/python3.11/site-packages (from google-api-python-client>=1.12.1->earthengine-api) (2.12.0)\n",
      "Requirement already satisfied: uritemplate<5,>=3.0.1 in /home/ubuntu/anaconda3/lib/python3.11/site-packages (from google-api-python-client>=1.12.1->earthengine-api) (4.1.1)\n",
      "Requirement already satisfied: cachetools<6.0,>=2.0.0 in /home/ubuntu/anaconda3/lib/python3.11/site-packages (from google-auth>=1.4.1->earthengine-api) (5.3.2)\n",
      "Requirement already satisfied: pyasn1-modules>=0.2.1 in /home/ubuntu/anaconda3/lib/python3.11/site-packages (from google-auth>=1.4.1->earthengine-api) (0.2.8)\n",
      "Requirement already satisfied: rsa<5,>=3.1.4 in /home/ubuntu/anaconda3/lib/python3.11/site-packages (from google-auth>=1.4.1->earthengine-api) (4.9)\n",
      "Requirement already satisfied: pyparsing!=3.0.0,!=3.0.1,!=3.0.2,!=3.0.3,<4,>=2.4.2 in /home/ubuntu/anaconda3/lib/python3.11/site-packages (from httplib2<1dev,>=0.9.2->earthengine-api) (3.0.9)\n",
      "Requirement already satisfied: google-cloud-core<3.0dev,>=2.3.0 in /home/ubuntu/anaconda3/lib/python3.11/site-packages (from google-cloud-storage->earthengine-api) (2.3.3)\n",
      "Requirement already satisfied: google-resumable-media>=2.6.0 in /home/ubuntu/anaconda3/lib/python3.11/site-packages (from google-cloud-storage->earthengine-api) (2.6.0)\n",
      "Requirement already satisfied: google-crc32c<2.0dev,>=1.0 in /home/ubuntu/anaconda3/lib/python3.11/site-packages (from google-cloud-storage->earthengine-api) (1.5.0)\n",
      "Requirement already satisfied: charset-normalizer<4,>=2 in /home/ubuntu/anaconda3/lib/python3.11/site-packages (from requests->earthengine-api) (2.0.4)\n",
      "Requirement already satisfied: idna<4,>=2.5 in /home/ubuntu/anaconda3/lib/python3.11/site-packages (from requests->earthengine-api) (3.4)\n",
      "Requirement already satisfied: urllib3<1.27,>=1.21.1 in /home/ubuntu/anaconda3/lib/python3.11/site-packages (from requests->earthengine-api) (1.26.16)\n",
      "Requirement already satisfied: certifi>=2017.4.17 in /home/ubuntu/anaconda3/lib/python3.11/site-packages (from requests->earthengine-api) (2023.7.22)\n",
      "Requirement already satisfied: googleapis-common-protos<2.0.dev0,>=1.56.2 in /home/ubuntu/anaconda3/lib/python3.11/site-packages (from google-api-core!=2.0.*,!=2.1.*,!=2.2.*,!=2.3.0,<3.0.0.dev0,>=1.31.5->google-api-python-client>=1.12.1->earthengine-api) (1.61.0)\n",
      "Requirement already satisfied: protobuf!=3.20.0,!=3.20.1,!=4.21.0,!=4.21.1,!=4.21.2,!=4.21.3,!=4.21.4,!=4.21.5,<5.0.0.dev0,>=3.19.5 in /home/ubuntu/anaconda3/lib/python3.11/site-packages (from google-api-core!=2.0.*,!=2.1.*,!=2.2.*,!=2.3.0,<3.0.0.dev0,>=1.31.5->google-api-python-client>=1.12.1->earthengine-api) (4.24.4)\n",
      "Requirement already satisfied: pyasn1<0.5.0,>=0.4.6 in /home/ubuntu/anaconda3/lib/python3.11/site-packages (from pyasn1-modules>=0.2.1->google-auth>=1.4.1->earthengine-api) (0.4.8)\n",
      "Note: you may need to restart the kernel to use updated packages.\n",
      "Collecting docstring-generator\n",
      "  Downloading docstring_generator-0.2.0-py3-none-any.whl (9.5 kB)\n",
      "Requirement already satisfied: click in /home/ubuntu/anaconda3/lib/python3.11/site-packages (from docstring-generator) (8.0.4)\n",
      "Collecting strongtyping (from docstring-generator)\n",
      "  Obtaining dependency information for strongtyping from https://files.pythonhosted.org/packages/35/e6/8efdc2719e2fe368d4ff1887912b484a252e85cbb80dcf88f6ca1de138fb/strongtyping-3.11.4-py3-none-any.whl.metadata\n",
      "  Downloading strongtyping-3.11.4-py3-none-any.whl.metadata (2.0 kB)\n",
      "Downloading strongtyping-3.11.4-py3-none-any.whl (23 kB)\n",
      "Installing collected packages: strongtyping, docstring-generator\n",
      "Successfully installed docstring-generator-0.2.0 strongtyping-3.11.4\n",
      "Note: you may need to restart the kernel to use updated packages.\n"
     ]
    }
   ],
   "source": [
    "%pip install earthengine-api --upgrade\n",
    "%pip install docstring-generator"
   ]
  },
  {
   "cell_type": "code",
   "execution_count": 1,
   "id": "c71cdc04-5790-4ea7-aba4-1caa8e9dd487",
   "metadata": {
    "tags": []
   },
   "outputs": [],
   "source": [
    "import ee\n",
    "import numpy as np\n",
    "import pandas as pd\n",
    "from concurrent.futures import ProcessPoolExecutor\n",
    "import os"
   ]
  },
  {
   "cell_type": "code",
   "execution_count": 2,
   "id": "03420d32-8c1d-4ea4-a279-38eba6b55a3d",
   "metadata": {
    "tags": []
   },
   "outputs": [
    {
     "data": {
      "text/html": [
       "<p>To authorize access needed by Earth Engine, open the following\n",
       "        URL in a web browser and follow the instructions:</p>\n",
       "        <p><a href=https://code.earthengine.google.com/client-auth?scopes=https%3A//www.googleapis.com/auth/earthengine%20https%3A//www.googleapis.com/auth/devstorage.full_control&request_id=KGBLEdoxtOgZVCGHiAMzSiOf7mDsrKF33Do4SsA0w68&tc=JraUDod6Awu_o3vG1DZCqDRWfKB6ITHyGZKpmqfIMek&cc=kbq2-wc9qt4zgZOPQTxGQgOQgYcNgJZN_d_aQs0_QI8>https://code.earthengine.google.com/client-auth?scopes=https%3A//www.googleapis.com/auth/earthengine%20https%3A//www.googleapis.com/auth/devstorage.full_control&request_id=KGBLEdoxtOgZVCGHiAMzSiOf7mDsrKF33Do4SsA0w68&tc=JraUDod6Awu_o3vG1DZCqDRWfKB6ITHyGZKpmqfIMek&cc=kbq2-wc9qt4zgZOPQTxGQgOQgYcNgJZN_d_aQs0_QI8</a></p>\n",
       "        <p>The authorization workflow will generate a code, which you should paste in the box below.</p>\n",
       "        "
      ],
      "text/plain": [
       "<IPython.core.display.HTML object>"
      ]
     },
     "metadata": {},
     "output_type": "display_data"
    },
    {
     "name": "stdin",
     "output_type": "stream",
     "text": [
      "Enter verification code:  4/1AfJohXnAwGu5WlAtgFn9csEFGmDU8i6PLPCIg6cwnGyCTIRZKX4clslhKv8\n"
     ]
    },
    {
     "name": "stdout",
     "output_type": "stream",
     "text": [
      "\n",
      "Successfully saved authorization token.\n"
     ]
    }
   ],
   "source": [
    "# Trigger the authentication flow.\n",
    "ee.Authenticate()\n",
    "\n",
    "# Initialize the library.\n",
    "ee.Initialize()"
   ]
  },
  {
   "cell_type": "code",
   "execution_count": null,
   "id": "88ee047b-989e-493a-9ab0-fdb4d5c54ded",
   "metadata": {
    "tags": []
   },
   "outputs": [],
   "source": [
    "file_dir = \"/home/ubuntu/gridmet_test_run\"\n",
    "os.chdir(file_dir)\n",
    "\n",
    "def smap_getter(lat_long:list)->pd.DataFrame:\n",
    "    site_lat = lat_long[0]\n",
    "    site_lon = lat_long[1]\n",
    "    time_periods = [(\"2017-10-01\", \"2018-01-01\"),\n",
    "               (\"2018-01-02\", \"2018-07-02\")]\n",
    "    smap_by_time = []\n",
    "    selected_variables = [\"heat_flux_ground\", \"net_downward_shortwave_flux\",\n",
    "                          \"snow_mass\", \"snow_depth\", \"snow_melt_flux\", \"surface_temp\"]\n",
    "    for time_tuple in time_periods:\n",
    "        start_time = time_tuple[0]\n",
    "        end_time = time_tuple[1]\n",
    "        smap_data = ee.ImageCollection(\"NASA/SMAP/SPL4SMGP/007\").\\\n",
    "                            filterDate(start_time, end_time).\\\n",
    "                                select(selected_variables).\\\n",
    "                                    getRegion(ee.Geometry.Point([site_lon, site_lat]), 11000).\\\n",
    "                                        getInfo() ###extract data in a list  \n",
    "        data = pd.DataFrame(smap_data[1:], columns=[\"date\", \"lon\", \"lat\", \"time\"] + selected_variables)\n",
    "        data = data.drop(columns=[\"lon\", \"lat\", \"time\"])\n",
    "        data[\"date\"] = pd.to_datetime(data[\"date\"], format = \"%Y%m%d_%H%M\").dt.date.astype(str)\n",
    "        data = data.groupby(\"date\", as_index=False).mean()\n",
    "        smap_by_time.append(data)\n",
    "        \n",
    "    grabbed_data = pd.concat(smap_by_time, ignore_index=True)\n",
    "    grabbed_data[\"lat\"] = lat_long[0] \n",
    "    grabbed_data[\"lon\"] = lat_long[1]\n",
    "    \n",
    "    return grabbed_data\n",
    "\n",
    "\n",
    "def parallel_processing(lat_lon_tuple, name)->None:\n",
    "    with ProcessPoolExecutor(max_workers = 14) as pool:\n",
    "        results = list(pool.map(smap_getter, lat_lon_tuple))  \n",
    "     \n",
    "    all_data = pd.concat(results, ignore_index=True)\n",
    "    all_data.to_csv(f\"./smap_{name}.csv\", index=False)\n",
    "    return all_data\n",
    "\n",
    "def main():\n",
    "    # testing points \n",
    "    # training points \n",
    "    testing =  pd.read_csv(\"./testing_all_ready.csv_hackweek_subset.csv\").loc[:, [\"Latitude\", \"Longitude\"]].drop_duplicates()\n",
    "\n",
    "    training = pd.read_csv(\"./final_merged_data_3yrs_cleaned_v3_hackweek_subset.csv\").loc[:, [\"lat\", \"lon\"]].drop_duplicates()\n",
    "    training_points_smap = parallel_processing(training.values.tolist(), \"training\")\n",
    "   \n",
    "    testing_points_smap = parallel_processing(testing.values.tolist(), \"testing\")\n",
    "    print(\"finished running.\")\n",
    "#     \n",
    "\n",
    "main()"
   ]
  }
 ],
 "metadata": {
  "kernelspec": {
   "display_name": "Python 3 (ipykernel)",
   "language": "python",
   "name": "python3"
  },
  "language_info": {
   "codemirror_mode": {
    "name": "ipython",
    "version": 3
   },
   "file_extension": ".py",
   "mimetype": "text/x-python",
   "name": "python",
   "nbconvert_exporter": "python",
   "pygments_lexer": "ipython3",
   "version": "3.11.5"
  }
 },
 "nbformat": 4,
 "nbformat_minor": 5
}
