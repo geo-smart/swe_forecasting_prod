{
 "cells": [
  {
   "cell_type": "markdown",
   "id": "bb81cef6-28d3-4d94-a12d-260cd81048d2",
   "metadata": {},
   "source": [
    "## Model Improvement\n",
    "\n",
    "Current model is Extra Tree Regressor: https://scikit-learn.org/stable/modules/generated/sklearn.tree.ExtraTreeRegressor.html.\n",
    "\n",
    "We could try another model with a precise strategy and limit the ambiguity and blindness of model selection in the process and can avoid wasting time. "
   ]
  },
  {
   "cell_type": "code",
   "execution_count": null,
   "id": "83057c7e-1c02-4834-a93d-a57f87227a31",
   "metadata": {},
   "outputs": [],
   "source": []
  },
  {
   "cell_type": "code",
   "execution_count": null,
   "id": "cd2d2f53-d0fa-45aa-b7c5-809a1811a20d",
   "metadata": {},
   "outputs": [],
   "source": []
  },
  {
   "cell_type": "code",
   "execution_count": null,
   "id": "7b09b0bf-8d62-4c8f-a860-33db45ffa1a4",
   "metadata": {},
   "outputs": [],
   "source": []
  },
  {
   "cell_type": "code",
   "execution_count": null,
   "id": "fd1a0cfe-9011-46f0-9717-8df3c8ba76b4",
   "metadata": {},
   "outputs": [],
   "source": []
  }
 ],
 "metadata": {
  "kernelspec": {
   "display_name": "Python 3 (ipykernel)",
   "language": "python",
   "name": "python3"
  },
  "language_info": {
   "codemirror_mode": {
    "name": "ipython",
    "version": 3
   },
   "file_extension": ".py",
   "mimetype": "text/x-python",
   "name": "python",
   "nbconvert_exporter": "python",
   "pygments_lexer": "ipython3",
   "version": "3.11.9"
  }
 },
 "nbformat": 4,
 "nbformat_minor": 5
}
