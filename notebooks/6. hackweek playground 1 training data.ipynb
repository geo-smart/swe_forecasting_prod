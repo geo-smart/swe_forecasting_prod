{
 "cells": [
  {
   "cell_type": "markdown",
   "id": "d809db4d-84d1-4c7c-9800-d4b8c4a7433f",
   "metadata": {},
   "source": [
    "## Training Data Playground for SWE Forecasting\n",
    "\n",
    "Here is our current training data: \n",
    "\n",
    "Download [here](http://geobrain.csiss.gmu.edu/swe_forecasting/final_merged_data_3yrs_cleaned_v3.csv) from GMU server.\n",
    "\n",
    "If want to access the data via AWS, here is its public S3 URI: [s3://geosmart-hackweek/final_merged_data_3yrs_cleaned_v3_public.csv](s3://geosmart-hackweek/final_merged_data_3yrs_cleaned_v3_public.csv)"
   ]
  },
  {
   "cell_type": "markdown",
   "id": "a4ae26e4-e851-4ac9-8da5-a4a5a440cd31",
   "metadata": {},
   "source": [
    "### Key Issue #1: Sanity Check of the data\n",
    "\n",
    "We have generated the training.csv via a complicated processing pipeline. But we haven't done a sanity check on the data. We don't know much about its correctness, and it is possible we did mess up the coordination system transformation, mismatch of locations, unit conversion, filling value misuse, etc. We desire a comprehensive sanity checks on the training data before we trust it to train our model."
   ]
  },
  {
   "cell_type": "markdown",
   "id": "47b5db67-334a-4762-867f-28614714adc7",
   "metadata": {
    "tags": []
   },
   "source": [
    "### Key Issue #2: Collecting More Data\n",
    "\n",
    "The AMSR and GridMet correaltion with SNOTEL is very bad (if the sanity checks passed). If that is verified, we have to collect more data, like MODIS, Landsat, Sentinel, and ICESat-2 and any other available operational datasets. "
   ]
  },
  {
   "cell_type": "code",
   "execution_count": null,
   "id": "c0af0da2-8d0c-463e-98ac-d5c7880e8e57",
   "metadata": {},
   "outputs": [],
   "source": []
  }
 ],
 "metadata": {
  "kernelspec": {
   "display_name": "Python 3 (ipykernel)",
   "language": "python",
   "name": "python3"
  },
  "language_info": {
   "codemirror_mode": {
    "name": "ipython",
    "version": 3
   },
   "file_extension": ".py",
   "mimetype": "text/x-python",
   "name": "python",
   "nbconvert_exporter": "python",
   "pygments_lexer": "ipython3",
   "version": "3.9.7"
  }
 },
 "nbformat": 4,
 "nbformat_minor": 5
}
