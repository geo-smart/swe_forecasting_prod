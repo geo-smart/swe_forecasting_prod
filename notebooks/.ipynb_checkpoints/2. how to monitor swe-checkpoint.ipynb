{
 "cells": [
  {
   "cell_type": "markdown",
   "id": "4b714d02-3ebb-4fbc-89e3-99ae75e801ca",
   "metadata": {},
   "source": [
    "## How do we monitor SWE?\n",
    "\n",
    "In this notebook we're diving into the world of Snow Water Equivalent (SWE) monitoring and forecasting. \n",
    "\n",
    "Imagine it as an orchestra where different instruments — SNOTEL, remote sensing, and numerical models—come together to create a beautiful snow symphony.\n",
    "\n"
   ]
  },
  {
   "cell_type": "markdown",
   "id": "db0bb152-c550-4a27-b7de-8b2117eb3da1",
   "metadata": {},
   "source": [
    "## SNOTEL \n",
    "\n",
    "Think of SNOTEL stations as our ground truth. These are on-site instruments located in the snowy wilderness, gathering real-time data. They measure snow depth, temperature, and the weight of the snowpack. Just like musical notes on a score, SNOTEL stations provide the essential baseline for our snow symphony."
   ]
  },
  {
   "cell_type": "markdown",
   "id": "76665e4e-f820-47bb-9ff2-d1d9fd6927eb",
   "metadata": {},
   "source": [
    "## Remote Sensing Satellites\n",
    "\n",
    "Remote sensing, on the other hand, are the high-flying pioneers in our orchestra. Satellites and sensors are like our bird's-eye view conductors, capturing data from above. They use microwaves and lasers to measure the snow's properties, like SWE and snow cover extent. It's like creating a symphony from the sky, with every note representing a piece of the snowy puzzle.\n",
    "\n",
    "*Microwave radiometers* on satellites, such as the Advanced Microwave Scanning Radiometer (AMSR), measure the microwave emissions from the Earth's surface, including snow. These measurements can be used to estimate SWE.\n",
    "\n",
    "*MODIS*, aboard NASA's Terra and Aqua satellites, captures data on snow cover extent, albedo, and land surface temperature. These data are used to monitor snow conditions.\n",
    "\n",
    "*SAR satellites*, like Sentinel-1, use radar to detect changes in snow cover and can penetrate clouds and darkness, making them valuable for continuous monitoring."
   ]
  },
  {
   "cell_type": "markdown",
   "id": "aa16a42b-37ef-4a36-b30b-7daa2fd3cc5c",
   "metadata": {},
   "source": [
    "## Numerical Models\n",
    "\n",
    "And now, the masters of prediction — numerical models! These are like the composers and conductors of our snow symphony. They take data from SNOTEL and remote sensing, mix it with weather forecasts, and create beautiful compositions. These models use math and physics to predict how the snowpack will evolve over time. It's like turning data into music, forecasting the future of our snowy landscape."
   ]
  }
 ],
 "metadata": {
  "kernelspec": {
   "display_name": "Python 3 (ipykernel)",
   "language": "python",
   "name": "python3"
  },
  "language_info": {
   "codemirror_mode": {
    "name": "ipython",
    "version": 3
   },
   "file_extension": ".py",
   "mimetype": "text/x-python",
   "name": "python",
   "nbconvert_exporter": "python",
   "pygments_lexer": "ipython3",
   "version": "3.9.7"
  }
 },
 "nbformat": 4,
 "nbformat_minor": 5
}
