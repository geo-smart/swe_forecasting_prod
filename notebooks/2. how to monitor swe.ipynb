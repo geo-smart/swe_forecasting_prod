{
 "cells": [
  {
   "cell_type": "markdown",
   "id": "4b714d02-3ebb-4fbc-89e3-99ae75e801ca",
   "metadata": {},
   "source": [
    "## How do we monitor SWE?\n",
    "\n",
    "In this notebook we're diving into the world of Snow Water Equivalent (SWE) monitoring and forecasting. \n",
    "\n",
    "Imagine it as an orchestra where different instruments — SNOTEL, remote sensing, and numerical models—come together to create a beautiful snow symphony.\n",
    "\n"
   ]
  },
  {
   "cell_type": "markdown",
   "id": "db0bb152-c550-4a27-b7de-8b2117eb3da1",
   "metadata": {},
   "source": [
    "## SNOTEL "
   ]
  }
 ],
 "metadata": {
  "kernelspec": {
   "display_name": "Python 3 (ipykernel)",
   "language": "python",
   "name": "python3"
  },
  "language_info": {
   "codemirror_mode": {
    "name": "ipython",
    "version": 3
   },
   "file_extension": ".py",
   "mimetype": "text/x-python",
   "name": "python",
   "nbconvert_exporter": "python",
   "pygments_lexer": "ipython3",
   "version": "3.9.7"
  }
 },
 "nbformat": 4,
 "nbformat_minor": 5
}
