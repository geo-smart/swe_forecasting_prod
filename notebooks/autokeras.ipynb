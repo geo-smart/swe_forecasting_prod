{
 "cells": [
  {
   "cell_type": "code",
   "execution_count": 1,
   "id": "45082cc7-3619-4a94-a869-f7d7eb3345a2",
   "metadata": {
    "scrolled": true
   },
   "outputs": [
    {
     "name": "stdout",
     "output_type": "stream",
     "text": [
      "Requirement already satisfied: autokeras in /srv/conda/envs/notebook/lib/python3.11/site-packages (2.0.0)\n",
      "Requirement already satisfied: packaging in /srv/conda/envs/notebook/lib/python3.11/site-packages (from autokeras) (24.1)\n",
      "Requirement already satisfied: keras-tuner>=1.4.0 in /srv/conda/envs/notebook/lib/python3.11/site-packages (from autokeras) (1.4.7)\n",
      "Requirement already satisfied: keras-nlp>=0.8.0 in /srv/conda/envs/notebook/lib/python3.11/site-packages (from autokeras) (0.14.4)\n",
      "Requirement already satisfied: keras>=3.0.0 in /srv/conda/envs/notebook/lib/python3.11/site-packages (from autokeras) (3.5.0)\n",
      "Requirement already satisfied: dm-tree in /srv/conda/envs/notebook/lib/python3.11/site-packages (from autokeras) (0.1.8)\n",
      "Requirement already satisfied: absl-py in /srv/conda/envs/notebook/lib/python3.11/site-packages (from keras>=3.0.0->autokeras) (2.1.0)\n",
      "Requirement already satisfied: numpy in /srv/conda/envs/notebook/lib/python3.11/site-packages (from keras>=3.0.0->autokeras) (1.26.4)\n",
      "Requirement already satisfied: rich in /srv/conda/envs/notebook/lib/python3.11/site-packages (from keras>=3.0.0->autokeras) (13.7.1)\n",
      "Requirement already satisfied: namex in /srv/conda/envs/notebook/lib/python3.11/site-packages (from keras>=3.0.0->autokeras) (0.0.8)\n",
      "Requirement already satisfied: h5py in /srv/conda/envs/notebook/lib/python3.11/site-packages (from keras>=3.0.0->autokeras) (3.11.0)\n",
      "Requirement already satisfied: optree in /srv/conda/envs/notebook/lib/python3.11/site-packages (from keras>=3.0.0->autokeras) (0.12.1)\n",
      "Requirement already satisfied: ml-dtypes in /srv/conda/envs/notebook/lib/python3.11/site-packages (from keras>=3.0.0->autokeras) (0.4.0)\n",
      "Requirement already satisfied: regex in /srv/conda/envs/notebook/lib/python3.11/site-packages (from keras-nlp>=0.8.0->autokeras) (2024.7.24)\n",
      "Requirement already satisfied: kagglehub in /srv/conda/envs/notebook/lib/python3.11/site-packages (from keras-nlp>=0.8.0->autokeras) (0.2.9)\n",
      "Requirement already satisfied: tensorflow-text in /srv/conda/envs/notebook/lib/python3.11/site-packages (from keras-nlp>=0.8.0->autokeras) (2.17.0)\n",
      "Requirement already satisfied: requests in /srv/conda/envs/notebook/lib/python3.11/site-packages (from keras-tuner>=1.4.0->autokeras) (2.32.3)\n",
      "Requirement already satisfied: kt-legacy in /srv/conda/envs/notebook/lib/python3.11/site-packages (from keras-tuner>=1.4.0->autokeras) (1.0.5)\n",
      "Requirement already satisfied: tqdm in /srv/conda/envs/notebook/lib/python3.11/site-packages (from kagglehub->keras-nlp>=0.8.0->autokeras) (4.66.5)\n",
      "Requirement already satisfied: typing-extensions>=4.5.0 in /srv/conda/envs/notebook/lib/python3.11/site-packages (from optree->keras>=3.0.0->autokeras) (4.12.2)\n",
      "Requirement already satisfied: charset-normalizer<4,>=2 in /srv/conda/envs/notebook/lib/python3.11/site-packages (from requests->keras-tuner>=1.4.0->autokeras) (3.3.2)\n",
      "Requirement already satisfied: idna<4,>=2.5 in /srv/conda/envs/notebook/lib/python3.11/site-packages (from requests->keras-tuner>=1.4.0->autokeras) (3.7)\n",
      "Requirement already satisfied: urllib3<3,>=1.21.1 in /srv/conda/envs/notebook/lib/python3.11/site-packages (from requests->keras-tuner>=1.4.0->autokeras) (1.26.19)\n",
      "Requirement already satisfied: certifi>=2017.4.17 in /srv/conda/envs/notebook/lib/python3.11/site-packages (from requests->keras-tuner>=1.4.0->autokeras) (2024.7.4)\n",
      "Requirement already satisfied: markdown-it-py>=2.2.0 in /srv/conda/envs/notebook/lib/python3.11/site-packages (from rich->keras>=3.0.0->autokeras) (3.0.0)\n",
      "Requirement already satisfied: pygments<3.0.0,>=2.13.0 in /srv/conda/envs/notebook/lib/python3.11/site-packages (from rich->keras>=3.0.0->autokeras) (2.18.0)\n",
      "Requirement already satisfied: tensorflow<2.18,>=2.17.0 in /srv/conda/envs/notebook/lib/python3.11/site-packages (from tensorflow-text->keras-nlp>=0.8.0->autokeras) (2.17.0)\n",
      "Requirement already satisfied: mdurl~=0.1 in /srv/conda/envs/notebook/lib/python3.11/site-packages (from markdown-it-py>=2.2.0->rich->keras>=3.0.0->autokeras) (0.1.2)\n",
      "Requirement already satisfied: astunparse>=1.6.0 in /srv/conda/envs/notebook/lib/python3.11/site-packages (from tensorflow<2.18,>=2.17.0->tensorflow-text->keras-nlp>=0.8.0->autokeras) (1.6.3)\n",
      "Requirement already satisfied: flatbuffers>=24.3.25 in /srv/conda/envs/notebook/lib/python3.11/site-packages (from tensorflow<2.18,>=2.17.0->tensorflow-text->keras-nlp>=0.8.0->autokeras) (24.3.25)\n",
      "Requirement already satisfied: gast!=0.5.0,!=0.5.1,!=0.5.2,>=0.2.1 in /srv/conda/envs/notebook/lib/python3.11/site-packages (from tensorflow<2.18,>=2.17.0->tensorflow-text->keras-nlp>=0.8.0->autokeras) (0.6.0)\n",
      "Requirement already satisfied: google-pasta>=0.1.1 in /srv/conda/envs/notebook/lib/python3.11/site-packages (from tensorflow<2.18,>=2.17.0->tensorflow-text->keras-nlp>=0.8.0->autokeras) (0.2.0)\n",
      "Requirement already satisfied: libclang>=13.0.0 in /srv/conda/envs/notebook/lib/python3.11/site-packages (from tensorflow<2.18,>=2.17.0->tensorflow-text->keras-nlp>=0.8.0->autokeras) (18.1.1)\n",
      "Requirement already satisfied: opt-einsum>=2.3.2 in /srv/conda/envs/notebook/lib/python3.11/site-packages (from tensorflow<2.18,>=2.17.0->tensorflow-text->keras-nlp>=0.8.0->autokeras) (3.3.0)\n",
      "Requirement already satisfied: protobuf!=4.21.0,!=4.21.1,!=4.21.2,!=4.21.3,!=4.21.4,!=4.21.5,<5.0.0dev,>=3.20.3 in /srv/conda/envs/notebook/lib/python3.11/site-packages (from tensorflow<2.18,>=2.17.0->tensorflow-text->keras-nlp>=0.8.0->autokeras) (4.25.3)\n",
      "Requirement already satisfied: setuptools in /srv/conda/envs/notebook/lib/python3.11/site-packages (from tensorflow<2.18,>=2.17.0->tensorflow-text->keras-nlp>=0.8.0->autokeras) (70.1.1)\n",
      "Requirement already satisfied: six>=1.12.0 in /srv/conda/envs/notebook/lib/python3.11/site-packages (from tensorflow<2.18,>=2.17.0->tensorflow-text->keras-nlp>=0.8.0->autokeras) (1.16.0)\n",
      "Requirement already satisfied: termcolor>=1.1.0 in /srv/conda/envs/notebook/lib/python3.11/site-packages (from tensorflow<2.18,>=2.17.0->tensorflow-text->keras-nlp>=0.8.0->autokeras) (2.4.0)\n",
      "Requirement already satisfied: wrapt>=1.11.0 in /srv/conda/envs/notebook/lib/python3.11/site-packages (from tensorflow<2.18,>=2.17.0->tensorflow-text->keras-nlp>=0.8.0->autokeras) (1.16.0)\n",
      "Requirement already satisfied: grpcio<2.0,>=1.24.3 in /srv/conda/envs/notebook/lib/python3.11/site-packages (from tensorflow<2.18,>=2.17.0->tensorflow-text->keras-nlp>=0.8.0->autokeras) (1.62.2)\n",
      "Requirement already satisfied: tensorboard<2.18,>=2.17 in /srv/conda/envs/notebook/lib/python3.11/site-packages (from tensorflow<2.18,>=2.17.0->tensorflow-text->keras-nlp>=0.8.0->autokeras) (2.17.1)\n",
      "Requirement already satisfied: tensorflow-io-gcs-filesystem>=0.23.1 in /srv/conda/envs/notebook/lib/python3.11/site-packages (from tensorflow<2.18,>=2.17.0->tensorflow-text->keras-nlp>=0.8.0->autokeras) (0.37.1)\n",
      "Requirement already satisfied: wheel<1.0,>=0.23.0 in /srv/conda/envs/notebook/lib/python3.11/site-packages (from astunparse>=1.6.0->tensorflow<2.18,>=2.17.0->tensorflow-text->keras-nlp>=0.8.0->autokeras) (0.43.0)\n",
      "Requirement already satisfied: markdown>=2.6.8 in /srv/conda/envs/notebook/lib/python3.11/site-packages (from tensorboard<2.18,>=2.17->tensorflow<2.18,>=2.17.0->tensorflow-text->keras-nlp>=0.8.0->autokeras) (3.6)\n",
      "Requirement already satisfied: tensorboard-data-server<0.8.0,>=0.7.0 in /srv/conda/envs/notebook/lib/python3.11/site-packages (from tensorboard<2.18,>=2.17->tensorflow<2.18,>=2.17.0->tensorflow-text->keras-nlp>=0.8.0->autokeras) (0.7.2)\n",
      "Requirement already satisfied: werkzeug>=1.0.1 in /srv/conda/envs/notebook/lib/python3.11/site-packages (from tensorboard<2.18,>=2.17->tensorflow<2.18,>=2.17.0->tensorflow-text->keras-nlp>=0.8.0->autokeras) (3.0.4)\n",
      "Requirement already satisfied: MarkupSafe>=2.1.1 in /srv/conda/envs/notebook/lib/python3.11/site-packages (from werkzeug>=1.0.1->tensorboard<2.18,>=2.17->tensorflow<2.18,>=2.17.0->tensorflow-text->keras-nlp>=0.8.0->autokeras) (2.1.5)\n"
     ]
    }
   ],
   "source": [
    "!pip install autokeras"
   ]
  },
  {
   "cell_type": "code",
   "execution_count": 2,
   "id": "80c67be7-e7e3-4196-9659-0ef1350aeac2",
   "metadata": {},
   "outputs": [
    {
     "name": "stderr",
     "output_type": "stream",
     "text": [
      "/tmp/ipykernel_4798/1122208404.py:13: FutureWarning: The behavior of DataFrame concatenation with empty or all-NA entries is deprecated. In a future version, this will no longer exclude empty or all-NA columns when determining the result dtypes. To retain the old behavior, exclude the relevant entries before the concat operation.\n",
      "  sample_data = pd.concat([sample_data, chunk])\n"
     ]
    }
   ],
   "source": [
    "import pandas as pd\n",
    "\n",
    "filepath = \"/home/jovyan/shared-public/ml_swe_monitoring_prod/snotel_ghcnd_stations_4yrs_all_cols_log10.csv\"\n",
    "chunksize = 1e5\n",
    "\n",
    "columns = pd.read_csv(filepath, nrows=100).columns\n",
    "chunked_data = pd.read_csv(filepath, chunksize=chunksize)\n",
    "sample_data = pd.DataFrame(columns=columns)\n",
    "\n",
    "for chunk in chunked_data:\n",
    "    chunk.columns = columns\n",
    "    chunk = chunk.sample(frac=0.05)\n",
    "    sample_data = pd.concat([sample_data, chunk])"
   ]
  },
  {
   "cell_type": "code",
   "execution_count": 3,
   "id": "6bedd8b1-89ac-49d1-9b00-b4909372a921",
   "metadata": {},
   "outputs": [],
   "source": [
    "import numpy as np\n",
    "\n",
    "chosen_columns = [\n",
    "  \"swe_value\",\n",
    "  'fsca',\n",
    "  'air_temperature_tmmx', \n",
    "  'air_temperature_tmmn', \n",
    "  'potential_evapotranspiration', \n",
    "  'relative_humidity_rmax', \n",
    "  'Elevation',\t\n",
    "  'Slope',\t\n",
    "  'Curvature',\t\n",
    "  'Aspect',\t\n",
    "  'Eastness',\t\n",
    "  'Northness',\n",
    "]\n",
    "\n",
    "\n",
    "sample_data = sample_data[sample_data.swe_value != -999]\n",
    "sample_data = sample_data[chosen_columns].dropna()\n",
    "\n",
    "y = np.expand_dims(sample_data[\"swe_value\"], axis=-1)\n",
    "X = sample_data.drop(columns=[\"swe_value\"])"
   ]
  },
  {
   "cell_type": "code",
   "execution_count": 4,
   "id": "26d98606-e9ff-4fa6-84e6-9b28745c71df",
   "metadata": {},
   "outputs": [
    {
     "name": "stdout",
     "output_type": "stream",
     "text": [
      "(207845, 1)\n",
      "(207845, 11)\n"
     ]
    }
   ],
   "source": [
    "print(y.shape)\n",
    "print(X.shape)"
   ]
  },
  {
   "cell_type": "code",
   "execution_count": 5,
   "id": "2979f025-e097-4aeb-835b-4afb69af6f02",
   "metadata": {},
   "outputs": [
    {
     "name": "stderr",
     "output_type": "stream",
     "text": [
      "2024-08-22 22:26:15.603955: E external/local_xla/xla/stream_executor/cuda/cuda_fft.cc:485] Unable to register cuFFT factory: Attempting to register factory for plugin cuFFT when one has already been registered\n",
      "2024-08-22 22:26:15.621239: E external/local_xla/xla/stream_executor/cuda/cuda_dnn.cc:8454] Unable to register cuDNN factory: Attempting to register factory for plugin cuDNN when one has already been registered\n",
      "2024-08-22 22:26:15.626159: E external/local_xla/xla/stream_executor/cuda/cuda_blas.cc:1452] Unable to register cuBLAS factory: Attempting to register factory for plugin cuBLAS when one has already been registered\n",
      "2024-08-22 22:26:15.638716: I tensorflow/core/platform/cpu_feature_guard.cc:210] This TensorFlow binary is optimized to use available CPU instructions in performance-critical operations.\n",
      "To enable the following instructions: AVX2 AVX512F FMA, in other operations, rebuild TensorFlow with the appropriate compiler flags.\n",
      "2024-08-22 22:26:16.682223: W tensorflow/compiler/tf2tensorrt/utils/py_utils.cc:38] TF-TRT Warning: Could not find TensorRT\n"
     ]
    }
   ],
   "source": [
    "import autokeras as ak\n",
    "import tensorflow as tf\n",
    "\n",
    "train_data = tf.data.Dataset.from_tensor_slices((X, y))"
   ]
  },
  {
   "cell_type": "code",
   "execution_count": 6,
   "id": "b3caf50e-61d1-4496-aa88-0d02402c7a22",
   "metadata": {},
   "outputs": [
    {
     "data": {
      "text/plain": [
       "(array([ 0.00000000e+00,  2.93900000e+02,  2.70600000e+02,  8.20000000e+00,\n",
       "         5.20000000e+01,  1.64263010e+03,  8.99886700e+01, -1.38636070e+04,\n",
       "         1.20569664e+02, -7.10852100e-01, -4.70492540e-01]),\n",
       " array([0.]))"
      ]
     },
     "execution_count": 6,
     "metadata": {},
     "output_type": "execute_result"
    }
   ],
   "source": [
    "next(train_data.take(1).as_numpy_iterator())"
   ]
  },
  {
   "cell_type": "code",
   "execution_count": 7,
   "id": "9d5fc372-461b-4137-b38c-4763e48053ff",
   "metadata": {},
   "outputs": [],
   "source": [
    "input_node = ak.Input()\n",
    "norm = ak.Normalization()(input_node)\n",
    "dense = ak.DenseBlock()(norm)\n",
    "output_node = ak.RegressionHead()(dense)\n",
    "\n",
    "auto_model = ak.AutoModel(\n",
    "    inputs=input_node, outputs=output_node, overwrite=True, max_trials=10\n",
    ")"
   ]
  },
  {
   "cell_type": "code",
   "execution_count": 8,
   "id": "8eaca164-f4f4-4e3e-a233-59093fdf0928",
   "metadata": {},
   "outputs": [
    {
     "name": "stdout",
     "output_type": "stream",
     "text": [
      "Trial 10 Complete [00h 01m 40s]\n",
      "val_loss: 37.16086196899414\n",
      "\n",
      "Best val_loss So Far: 36.32413864135742\n",
      "Total elapsed time: 00h 17m 28s\n",
      "Epoch 1/10\n",
      "\u001b[1m1624/1624\u001b[0m \u001b[32m━━━━━━━━━━━━━━━━━━━━\u001b[0m\u001b[37m\u001b[0m \u001b[1m8s\u001b[0m 4ms/step - loss: 170.5420 - mean_squared_error: 170.5420\n",
      "Epoch 2/10\n",
      "\u001b[1m1624/1624\u001b[0m \u001b[32m━━━━━━━━━━━━━━━━━━━━\u001b[0m\u001b[37m\u001b[0m \u001b[1m6s\u001b[0m 4ms/step - loss: 12.1436 - mean_squared_error: 12.1436\n",
      "Epoch 3/10\n",
      "\u001b[1m1624/1624\u001b[0m \u001b[32m━━━━━━━━━━━━━━━━━━━━\u001b[0m\u001b[37m\u001b[0m \u001b[1m6s\u001b[0m 4ms/step - loss: 12.1177 - mean_squared_error: 12.1177\n",
      "Epoch 4/10\n",
      "\u001b[1m1624/1624\u001b[0m \u001b[32m━━━━━━━━━━━━━━━━━━━━\u001b[0m\u001b[37m\u001b[0m \u001b[1m6s\u001b[0m 4ms/step - loss: 12.9758 - mean_squared_error: 12.9758\n",
      "Epoch 5/10\n",
      "\u001b[1m1624/1624\u001b[0m \u001b[32m━━━━━━━━━━━━━━━━━━━━\u001b[0m\u001b[37m\u001b[0m \u001b[1m6s\u001b[0m 4ms/step - loss: 12.6312 - mean_squared_error: 12.6312\n",
      "Epoch 6/10\n",
      "\u001b[1m1624/1624\u001b[0m \u001b[32m━━━━━━━━━━━━━━━━━━━━\u001b[0m\u001b[37m\u001b[0m \u001b[1m6s\u001b[0m 4ms/step - loss: 14.7313 - mean_squared_error: 14.7313\n",
      "Epoch 7/10\n",
      "\u001b[1m1624/1624\u001b[0m \u001b[32m━━━━━━━━━━━━━━━━━━━━\u001b[0m\u001b[37m\u001b[0m \u001b[1m6s\u001b[0m 4ms/step - loss: 12.0481 - mean_squared_error: 12.0481\n",
      "Epoch 8/10\n",
      "\u001b[1m1624/1624\u001b[0m \u001b[32m━━━━━━━━━━━━━━━━━━━━\u001b[0m\u001b[37m\u001b[0m \u001b[1m6s\u001b[0m 4ms/step - loss: 12.2792 - mean_squared_error: 12.2792\n",
      "Epoch 9/10\n",
      "\u001b[1m1624/1624\u001b[0m \u001b[32m━━━━━━━━━━━━━━━━━━━━\u001b[0m\u001b[37m\u001b[0m \u001b[1m7s\u001b[0m 4ms/step - loss: 12.3149 - mean_squared_error: 12.3149\n",
      "Epoch 10/10\n",
      "\u001b[1m1624/1624\u001b[0m \u001b[32m━━━━━━━━━━━━━━━━━━━━\u001b[0m\u001b[37m\u001b[0m \u001b[1m6s\u001b[0m 4ms/step - loss: 11.9900 - mean_squared_error: 11.9900\n"
     ]
    },
    {
     "data": {
      "text/plain": [
       "<keras.src.callbacks.history.History at 0x7fa7e9710f10>"
      ]
     },
     "execution_count": 8,
     "metadata": {},
     "output_type": "execute_result"
    }
   ],
   "source": [
    "auto_model.fit(train_data, batch_size=128, epochs=10)"
   ]
  }
 ],
 "metadata": {
  "kernelspec": {
   "display_name": "Python 3 (ipykernel)",
   "language": "python",
   "name": "python3"
  },
  "language_info": {
   "codemirror_mode": {
    "name": "ipython",
    "version": 3
   },
   "file_extension": ".py",
   "mimetype": "text/x-python",
   "name": "python",
   "nbconvert_exporter": "python",
   "pygments_lexer": "ipython3",
   "version": "3.11.9"
  }
 },
 "nbformat": 4,
 "nbformat_minor": 5
}
